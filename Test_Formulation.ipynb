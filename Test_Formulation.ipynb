{
 "cells": [
  {
   "cell_type": "code",
   "execution_count": 2,
   "id": "567d638b",
   "metadata": {},
   "outputs": [],
   "source": [
    "import pandas as pd\n",
    "import numpy as np\n",
    "import matplotlib.pyplot as plt\n",
    "import seaborn as sns"
   ]
  },
  {
   "cell_type": "code",
   "execution_count": 3,
   "id": "12cb4cc8",
   "metadata": {},
   "outputs": [
    {
     "name": "stdout",
     "output_type": "stream",
     "text": [
      "(1459, 80)\n",
      "     Id  MSSubClass MSZoning  LotFrontage  LotArea Street Alley LotShape  \\\n",
      "0  1461          20       RH         80.0    11622   Pave   NaN      Reg   \n",
      "1  1462          20       RL         81.0    14267   Pave   NaN      IR1   \n",
      "2  1463          60       RL         74.0    13830   Pave   NaN      IR1   \n",
      "3  1464          60       RL         78.0     9978   Pave   NaN      IR1   \n",
      "4  1465         120       RL         43.0     5005   Pave   NaN      IR1   \n",
      "\n",
      "  LandContour Utilities  ... ScreenPorch PoolArea PoolQC  Fence MiscFeature  \\\n",
      "0         Lvl    AllPub  ...         120        0    NaN  MnPrv         NaN   \n",
      "1         Lvl    AllPub  ...           0        0    NaN    NaN        Gar2   \n",
      "2         Lvl    AllPub  ...           0        0    NaN  MnPrv         NaN   \n",
      "3         Lvl    AllPub  ...           0        0    NaN    NaN         NaN   \n",
      "4         HLS    AllPub  ...         144        0    NaN    NaN         NaN   \n",
      "\n",
      "  MiscVal MoSold  YrSold  SaleType  SaleCondition  \n",
      "0       0      6    2010        WD         Normal  \n",
      "1   12500      6    2010        WD         Normal  \n",
      "2       0      3    2010        WD         Normal  \n",
      "3       0      6    2010        WD         Normal  \n",
      "4       0      1    2010        WD         Normal  \n",
      "\n",
      "[5 rows x 80 columns]\n"
     ]
    }
   ],
   "source": [
    "df=pd.read_csv('test.csv')\n",
    "print(df.shape)\n",
    "print(df.head())"
   ]
  },
  {
   "cell_type": "code",
   "execution_count": 4,
   "id": "cd05effd",
   "metadata": {},
   "outputs": [
    {
     "data": {
      "image/png": "[encoded data removed]",
      "text/plain": [
       "<Figure size 432x288 with 1 Axes>"
      ]
     },
     "metadata": {
      "needs_background": "light"
     },
     "output_type": "display_data"
    }
   ],
   "source": [
    "#check null values\n",
    "df.isnull().sum()\n",
    "sns.heatmap(df.isnull(),yticklabels=False,cbar=False,cmap='viridis')\n",
    "plt.show()"
   ]
  },
  {
   "cell_type": "code",
   "execution_count": 5,
   "id": "948bb3cb",
   "metadata": {},
   "outputs": [
    {
     "name": "stdout",
     "output_type": "stream",
     "text": [
      "  Utilities Exterior1st Exterior2nd BsmtFinType1  BsmtFinSF1  BsmtFinSF2  \\\n",
      "0    AllPub     VinylSd     VinylSd          Rec       468.0       144.0   \n",
      "1    AllPub     Wd Sdng     Wd Sdng          ALQ       923.0         0.0   \n",
      "2    AllPub     VinylSd     VinylSd          GLQ       791.0         0.0   \n",
      "3    AllPub     VinylSd     VinylSd          GLQ       602.0         0.0   \n",
      "4    AllPub     HdBoard     HdBoard          ALQ       263.0         0.0   \n",
      "\n",
      "   BsmtUnfSF  TotalBsmtSF  BsmtFullBath  BsmtHalfBath KitchenQual Functional  \\\n",
      "0      270.0        882.0           0.0           0.0          TA        Typ   \n",
      "1      406.0       1329.0           0.0           0.0          Gd        Typ   \n",
      "2      137.0        928.0           0.0           0.0          TA        Typ   \n",
      "3      324.0        926.0           0.0           0.0          Gd        Typ   \n",
      "4     1017.0       1280.0           0.0           0.0          Gd        Typ   \n",
      "\n",
      "   GarageCars  GarageArea SaleType  \n",
      "0         1.0       730.0       WD  \n",
      "1         1.0       312.0       WD  \n",
      "2         2.0       482.0       WD  \n",
      "3         2.0       470.0       WD  \n",
      "4         2.0       506.0       WD  \n"
     ]
    }
   ],
   "source": [
    "## Fill Missing Values\n",
    "df['LotFrontage']=df['LotFrontage'].fillna(df['LotFrontage'].mean())\n",
    "df['MSZoning']=df['MSZoning'].fillna(df['MSZoning'].mode()[0])\n",
    "df['BsmtCond']=df['BsmtCond'].fillna(df['BsmtCond'].mode()[0])\n",
    "df['BsmtQual']=df['BsmtQual'].fillna(df['BsmtQual'].mode()[0])\n",
    "df['FireplaceQu']=df['FireplaceQu'].fillna(df['FireplaceQu'].mode()[0])\n",
    "df['GarageType']=df['GarageType'].fillna(df['GarageType'].mode()[0])\n",
    "df['GarageFinish']=df['GarageFinish'].fillna(df['GarageFinish'].mode()[0])\n",
    "df['GarageQual']=df['GarageQual'].fillna(df['GarageQual'].mode()[0])\n",
    "df['GarageCond']=df['GarageCond'].fillna(df['GarageCond'].mode()[0])\n",
    "df['MasVnrType']=df['MasVnrType'].fillna(df['MasVnrType'].mode()[0])\n",
    "df['MasVnrArea']= df['MasVnrArea'].fillna(df['MasVnrArea'].mode()[0])\n",
    "df['BsmtExposure']=df['BsmtExposure'].fillna(df['BsmtExposure'].mode()[0])\n",
    "df['BsmtFinType2']=df['BsmtFinType2'].fillna(df['BsmtFinType2'].mode()[0])\n",
    "\n",
    "df.drop(['Alley'],axis=1,inplace=True)\n",
    "df.drop(['GarageYrBlt'],axis=1,inplace=True)\n",
    "df.drop(['PoolQC','Fence','MiscFeature'],axis=1,inplace=True)\n",
    "df.drop(['Id'],axis=1,inplace=True)\n",
    "\n",
    "\n",
    "print(df.loc[:, df.isnull().any()].head())\n",
    "df['Utilities']=df['Utilities'].fillna(df['Utilities'].mode()[0])\n",
    "df['Exterior1st']=df['Exterior1st'].fillna(df['Exterior1st'].mode()[0])\n",
    "df['Exterior2nd']=df['Exterior2nd'].fillna(df['Exterior2nd'].mode()[0])\n",
    "df['BsmtFinType1']=df['BsmtFinType1'].fillna(df['BsmtFinType1'].mode()[0])\n",
    "df['BsmtFinSF1']=df['BsmtFinSF1'].fillna(df['BsmtFinSF1'].mean())\n",
    "df['BsmtFinSF2']=df['BsmtFinSF2'].fillna(df['BsmtFinSF2'].mean())\n",
    "df['BsmtUnfSF']=df['BsmtUnfSF'].fillna(df['BsmtUnfSF'].mean())\n",
    "df['TotalBsmtSF']=df['TotalBsmtSF'].fillna(df['TotalBsmtSF'].mean())\n",
    "df['BsmtFullBath']=df['BsmtFullBath'].fillna(df['BsmtFullBath'].mode()[0])\n",
    "df['BsmtHalfBath']=df['BsmtHalfBath'].fillna(df['BsmtHalfBath'].mode()[0])\n",
    "df['KitchenQual']=df['KitchenQual'].fillna(df['KitchenQual'].mode()[0])\n",
    "df['Functional']=df['Functional'].fillna(df['Functional'].mode()[0])\n",
    "df['GarageCars']=df['GarageCars'].fillna(df['GarageCars'].mean())\n",
    "df['GarageArea']=df['GarageArea'].fillna(df['GarageArea'].mean())\n",
    "df['SaleType']=df['SaleType'].fillna(df['SaleType'].mode()[0])"
   ]
  },
  {
   "cell_type": "code",
   "execution_count": 6,
   "id": "a6886225",
   "metadata": {},
   "outputs": [
    {
     "data": {
      "image/png": "[encoded data removed]",
      "text/plain": [
       "<Figure size 432x288 with 1 Axes>"
      ]
     },
     "metadata": {
      "needs_background": "light"
     },
     "output_type": "display_data"
    }
   ],
   "source": [
    "sns.heatmap(df.isnull(),yticklabels=False,cbar=False,cmap='viridis')\n",
    "plt.show()"
   ]
  },
  {
   "cell_type": "code",
   "execution_count": 7,
   "id": "0a33bc59",
   "metadata": {},
   "outputs": [],
   "source": [
    "# Import label encoder\n",
    "from sklearn import preprocessing\n",
    " # label_encoder object knows how to understand word labels.\n",
    "label_encoder = preprocessing.LabelEncoder()\n",
    "\n",
    "df['MSZoning']= label_encoder.fit_transform(df['MSZoning'])\n",
    "df['Street']= label_encoder.fit_transform(df['Street'])\n",
    "df['LotShape']= label_encoder.fit_transform(df['LotShape'])\n",
    "df['LandContour']= label_encoder.fit_transform(df['LandContour'])\n",
    "df['Utilities']= label_encoder.fit_transform(df['Utilities'])\n",
    "df['LotConfig']= label_encoder.fit_transform(df['LotConfig'])\n",
    "df['LandSlope']= label_encoder.fit_transform(df['LandSlope'])\n",
    "df['Neighborhood']= label_encoder.fit_transform(df['Neighborhood'])\n",
    "df['Condition2']= label_encoder.fit_transform(df['Condition2'])\n",
    "df['BldgType']= label_encoder.fit_transform(df['BldgType'])\n",
    "df['Condition1']= label_encoder.fit_transform(df['Condition1'])\n",
    "df['HouseStyle']= label_encoder.fit_transform(df['HouseStyle'])\n",
    "df['SaleType']= label_encoder.fit_transform(df['SaleType'])\n",
    "df['SaleCondition']= label_encoder.fit_transform(df['SaleCondition'])\n",
    "df['ExterCond']= label_encoder.fit_transform(df['ExterCond'])\n",
    "df['ExterQual']= label_encoder.fit_transform(df['ExterQual'])\n",
    "df['Foundation']= label_encoder.fit_transform(df['Foundation'])\n",
    "df['BsmtQual']= label_encoder.fit_transform(df['BsmtQual'])\n",
    "df['BsmtCond']= label_encoder.fit_transform(df['BsmtCond'])\n",
    "df['BsmtExposure']= label_encoder.fit_transform(df['BsmtExposure'])\n",
    "df['BsmtFinType1']= label_encoder.fit_transform(df['BsmtFinType1'])\n",
    "df['BsmtFinType2']= label_encoder.fit_transform(df['BsmtFinType2'])\n",
    "df['RoofStyle']= label_encoder.fit_transform(df['RoofStyle'])\n",
    "df['RoofMatl']= label_encoder.fit_transform(df['RoofMatl'])\n",
    "df['Exterior1st']= label_encoder.fit_transform(df['Exterior1st'])\n",
    "df['Exterior2nd']= label_encoder.fit_transform(df['Exterior2nd'])\n",
    "df['MasVnrType']= label_encoder.fit_transform(df['MasVnrType'])\n",
    "df['Heating']= label_encoder.fit_transform(df['Heating'])\n",
    "df['HeatingQC']= label_encoder.fit_transform(df['HeatingQC'])\n",
    "df['CentralAir']= label_encoder.fit_transform(df['CentralAir'])\n",
    "df['Electrical']= label_encoder.fit_transform(df['Electrical'])\n",
    "df['KitchenQual']= label_encoder.fit_transform(df['KitchenQual'])\n",
    "df['Functional']= label_encoder.fit_transform(df['Functional'])\n",
    "df['FireplaceQu']= label_encoder.fit_transform(df['FireplaceQu'])\n",
    "df['GarageType']= label_encoder.fit_transform(df['GarageType'])\n",
    "df['GarageFinish']= label_encoder.fit_transform(df['GarageFinish'])\n",
    "df['GarageQual']= label_encoder.fit_transform(df['GarageQual'])\n",
    "df['GarageCond']= label_encoder.fit_transform(df['GarageCond'])\n",
    "df['PavedDrive']= label_encoder.fit_transform(df['PavedDrive'])\n"
   ]
  },
  {
   "cell_type": "code",
   "execution_count": 8,
   "id": "5786493a",
   "metadata": {},
   "outputs": [],
   "source": [
    "df.to_csv('formulatedtest.csv',index=False)"
   ]
  },
  {
   "cell_type": "code",
   "execution_count": null,
   "id": "5b54cac8",
   "metadata": {},
   "outputs": [],
   "source": []
  }
 ],
 "metadata": {
  "kernelspec": {
   "display_name": "Python 3 (ipykernel)",
   "language": "python",
   "name": "python3"
  },
  "language_info": {
   "codemirror_mode": {
    "name": "ipython",
    "version": 3
   },
   "file_extension": ".py",
   "mimetype": "text/x-python",
   "name": "python",
   "nbconvert_exporter": "python",
   "pygments_lexer": "ipython3",
   "version": "3.9.7"
  }
 },
 "nbformat": 4,
 "nbformat_minor": 5
}
